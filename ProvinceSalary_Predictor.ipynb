{
 "cells": [
  {
   "cell_type": "code",
   "execution_count": 79,
   "id": "5ef95e45",
   "metadata": {},
   "outputs": [],
   "source": [
    "import pandas as pd\n",
    "import matplotlib.pyplot as plt"
   ]
  },
  {
   "cell_type": "code",
   "execution_count": 80,
   "id": "af5c2acf",
   "metadata": {},
   "outputs": [],
   "source": [
    "df = 'D:/Kampus/Semester 4/Machine Learning/Final Project/Survey Data/survey_results.csv'"
   ]
  },
  {
   "cell_type": "code",
   "execution_count": 81,
   "id": "feaa1677",
   "metadata": {},
   "outputs": [],
   "source": [
    "df = pd.read_csv(df)"
   ]
  },
  {
   "cell_type": "code",
   "execution_count": 82,
   "id": "49c53938",
   "metadata": {},
   "outputs": [
    {
     "data": {
      "text/html": [
       "<div>\n",
       "<style scoped>\n",
       "    .dataframe tbody tr th:only-of-type {\n",
       "        vertical-align: middle;\n",
       "    }\n",
       "\n",
       "    .dataframe tbody tr th {\n",
       "        vertical-align: top;\n",
       "    }\n",
       "\n",
       "    .dataframe thead th {\n",
       "        text-align: right;\n",
       "    }\n",
       "</style>\n",
       "<table border=\"1\" class=\"dataframe\">\n",
       "  <thead>\n",
       "    <tr style=\"text-align: right;\">\n",
       "      <th></th>\n",
       "      <th>ResponseId</th>\n",
       "      <th>MainBranch</th>\n",
       "      <th>Employment</th>\n",
       "      <th>Province</th>\n",
       "      <th>US_State</th>\n",
       "      <th>UK_Country</th>\n",
       "      <th>EdLevel</th>\n",
       "      <th>Age1stCode</th>\n",
       "      <th>LearnCode</th>\n",
       "      <th>YearsCode</th>\n",
       "      <th>...</th>\n",
       "      <th>Age</th>\n",
       "      <th>Gender</th>\n",
       "      <th>Trans</th>\n",
       "      <th>Sexuality</th>\n",
       "      <th>Ethnicity</th>\n",
       "      <th>Accessibility</th>\n",
       "      <th>MentalHealth</th>\n",
       "      <th>SurveyLength</th>\n",
       "      <th>SurveyEase</th>\n",
       "      <th>ConvertedCompYearly</th>\n",
       "    </tr>\n",
       "  </thead>\n",
       "  <tbody>\n",
       "    <tr>\n",
       "      <th>0</th>\n",
       "      <td>1235</td>\n",
       "      <td>I am a developer by profession</td>\n",
       "      <td>Independent contractor, freelancer, or self-em...</td>\n",
       "      <td>Dumai</td>\n",
       "      <td>NaN</td>\n",
       "      <td>NaN</td>\n",
       "      <td>Bachelor’s degree (B.A., B.S., B.Eng., etc.)</td>\n",
       "      <td>11 - 17 years</td>\n",
       "      <td>School</td>\n",
       "      <td>7</td>\n",
       "      <td>...</td>\n",
       "      <td>25-34 years old</td>\n",
       "      <td>Man</td>\n",
       "      <td>No</td>\n",
       "      <td>Straight / Heterosexual</td>\n",
       "      <td>White or of European descent;Middle Eastern</td>\n",
       "      <td>None of the above</td>\n",
       "      <td>None of the above</td>\n",
       "      <td>Appropriate in length</td>\n",
       "      <td>Easy</td>\n",
       "      <td>1200.0</td>\n",
       "    </tr>\n",
       "    <tr>\n",
       "      <th>1</th>\n",
       "      <td>1175</td>\n",
       "      <td>I am not primarily a developer, but I write co...</td>\n",
       "      <td>Employed part-time</td>\n",
       "      <td>Surakarta</td>\n",
       "      <td>NaN</td>\n",
       "      <td>NaN</td>\n",
       "      <td>Secondary school (e.g. American high school, G...</td>\n",
       "      <td>11 - 17 years</td>\n",
       "      <td>Other online resources (ex: videos, blogs, etc...</td>\n",
       "      <td>12</td>\n",
       "      <td>...</td>\n",
       "      <td>18-24 years old</td>\n",
       "      <td>Man</td>\n",
       "      <td>No</td>\n",
       "      <td>Straight / Heterosexual</td>\n",
       "      <td>White or of European descent</td>\n",
       "      <td>None of the above</td>\n",
       "      <td>I have a concentration and/or memory disorder ...</td>\n",
       "      <td>Appropriate in length</td>\n",
       "      <td>Easy</td>\n",
       "      <td>1104.0</td>\n",
       "    </tr>\n",
       "    <tr>\n",
       "      <th>2</th>\n",
       "      <td>1147</td>\n",
       "      <td>I am a developer by profession</td>\n",
       "      <td>Employed part-time</td>\n",
       "      <td>Yogyakarta</td>\n",
       "      <td>NaN</td>\n",
       "      <td>NaN</td>\n",
       "      <td>Some college/university study without earning ...</td>\n",
       "      <td>11 - 17 years</td>\n",
       "      <td>Other online resources (ex: videos, blogs, etc...</td>\n",
       "      <td>6</td>\n",
       "      <td>...</td>\n",
       "      <td>18-24 years old</td>\n",
       "      <td>Man</td>\n",
       "      <td>No</td>\n",
       "      <td>Bisexual</td>\n",
       "      <td>White or of European descent</td>\n",
       "      <td>None of the above</td>\n",
       "      <td>None of the above</td>\n",
       "      <td>Appropriate in length</td>\n",
       "      <td>Easy</td>\n",
       "      <td>5832.0</td>\n",
       "    </tr>\n",
       "    <tr>\n",
       "      <th>3</th>\n",
       "      <td>1146</td>\n",
       "      <td>I am a developer by profession</td>\n",
       "      <td>Employed full-time</td>\n",
       "      <td>Balikpapan</td>\n",
       "      <td>NaN</td>\n",
       "      <td>NaN</td>\n",
       "      <td>Bachelor’s degree (B.A., B.S., B.Eng., etc.)</td>\n",
       "      <td>18 - 24 years</td>\n",
       "      <td>Coding Bootcamp</td>\n",
       "      <td>2</td>\n",
       "      <td>...</td>\n",
       "      <td>25-34 years old</td>\n",
       "      <td>Woman</td>\n",
       "      <td>No</td>\n",
       "      <td>Straight / Heterosexual</td>\n",
       "      <td>White or of European descent</td>\n",
       "      <td>None of the above</td>\n",
       "      <td>Prefer not to say</td>\n",
       "      <td>Appropriate in length</td>\n",
       "      <td>Easy</td>\n",
       "      <td>8436.0</td>\n",
       "    </tr>\n",
       "    <tr>\n",
       "      <th>4</th>\n",
       "      <td>257</td>\n",
       "      <td>I am not primarily a developer, but I write co...</td>\n",
       "      <td>Employed full-time</td>\n",
       "      <td>Pontianak</td>\n",
       "      <td>NaN</td>\n",
       "      <td>NaN</td>\n",
       "      <td>Some college/university study without earning ...</td>\n",
       "      <td>11 - 17 years</td>\n",
       "      <td>Other online resources (ex: videos, blogs, etc...</td>\n",
       "      <td>9</td>\n",
       "      <td>...</td>\n",
       "      <td>25-34 years old</td>\n",
       "      <td>Man</td>\n",
       "      <td>No</td>\n",
       "      <td>Straight / Heterosexual</td>\n",
       "      <td>White or of European descent</td>\n",
       "      <td>None of the above</td>\n",
       "      <td>None of the above</td>\n",
       "      <td>Appropriate in length</td>\n",
       "      <td>Easy</td>\n",
       "      <td>9084.0</td>\n",
       "    </tr>\n",
       "    <tr>\n",
       "      <th>...</th>\n",
       "      <td>...</td>\n",
       "      <td>...</td>\n",
       "      <td>...</td>\n",
       "      <td>...</td>\n",
       "      <td>...</td>\n",
       "      <td>...</td>\n",
       "      <td>...</td>\n",
       "      <td>...</td>\n",
       "      <td>...</td>\n",
       "      <td>...</td>\n",
       "      <td>...</td>\n",
       "      <td>...</td>\n",
       "      <td>...</td>\n",
       "      <td>...</td>\n",
       "      <td>...</td>\n",
       "      <td>...</td>\n",
       "      <td>...</td>\n",
       "      <td>...</td>\n",
       "      <td>...</td>\n",
       "      <td>...</td>\n",
       "      <td>...</td>\n",
       "    </tr>\n",
       "    <tr>\n",
       "      <th>1234</th>\n",
       "      <td>57</td>\n",
       "      <td>I am a developer by profession</td>\n",
       "      <td>Employed full-time</td>\n",
       "      <td>Ireland</td>\n",
       "      <td>NaN</td>\n",
       "      <td>NaN</td>\n",
       "      <td>Master’s degree (M.A., M.S., M.Eng., MBA, etc.)</td>\n",
       "      <td>18 - 24 years</td>\n",
       "      <td>Other online resources (ex: videos, blogs, etc...</td>\n",
       "      <td>6</td>\n",
       "      <td>...</td>\n",
       "      <td>25-34 years old</td>\n",
       "      <td>Man</td>\n",
       "      <td>No</td>\n",
       "      <td>Straight / Heterosexual</td>\n",
       "      <td>White or of European descent</td>\n",
       "      <td>None of the above</td>\n",
       "      <td>None of the above</td>\n",
       "      <td>Appropriate in length</td>\n",
       "      <td>Easy</td>\n",
       "      <td>NaN</td>\n",
       "    </tr>\n",
       "    <tr>\n",
       "      <th>1235</th>\n",
       "      <td>1059</td>\n",
       "      <td>I am a developer by profession</td>\n",
       "      <td>Employed full-time</td>\n",
       "      <td>Pasuruan</td>\n",
       "      <td>NaN</td>\n",
       "      <td>NaN</td>\n",
       "      <td>Master’s degree (M.A., M.S., M.Eng., MBA, etc.)</td>\n",
       "      <td>18 - 24 years</td>\n",
       "      <td>School;Online Courses or Certification;Colleague</td>\n",
       "      <td>6</td>\n",
       "      <td>...</td>\n",
       "      <td>25-34 years old</td>\n",
       "      <td>Man</td>\n",
       "      <td>No</td>\n",
       "      <td>Straight / Heterosexual</td>\n",
       "      <td>Black or of African descent</td>\n",
       "      <td>None of the above</td>\n",
       "      <td>None of the above</td>\n",
       "      <td>Appropriate in length</td>\n",
       "      <td>Neither easy nor difficult</td>\n",
       "      <td>NaN</td>\n",
       "    </tr>\n",
       "    <tr>\n",
       "      <th>1236</th>\n",
       "      <td>398</td>\n",
       "      <td>I am a developer by profession</td>\n",
       "      <td>Independent contractor, freelancer, or self-em...</td>\n",
       "      <td>Surabaya</td>\n",
       "      <td>NaN</td>\n",
       "      <td>England</td>\n",
       "      <td>Some college/university study without earning ...</td>\n",
       "      <td>18 - 24 years</td>\n",
       "      <td>Other (please specify):</td>\n",
       "      <td>43</td>\n",
       "      <td>...</td>\n",
       "      <td>55-64 years old</td>\n",
       "      <td>Man</td>\n",
       "      <td>No</td>\n",
       "      <td>NaN</td>\n",
       "      <td>Hispanic or Latino/a/x</td>\n",
       "      <td>NaN</td>\n",
       "      <td>NaN</td>\n",
       "      <td>Appropriate in length</td>\n",
       "      <td>Easy</td>\n",
       "      <td>NaN</td>\n",
       "    </tr>\n",
       "    <tr>\n",
       "      <th>1237</th>\n",
       "      <td>832</td>\n",
       "      <td>I am a developer by profession</td>\n",
       "      <td>Employed full-time</td>\n",
       "      <td>Surabaya</td>\n",
       "      <td>NaN</td>\n",
       "      <td>Scotland</td>\n",
       "      <td>Bachelor’s degree (B.A., B.S., B.Eng., etc.)</td>\n",
       "      <td>18 - 24 years</td>\n",
       "      <td>Other online resources (ex: videos, blogs, etc...</td>\n",
       "      <td>12</td>\n",
       "      <td>...</td>\n",
       "      <td>35-44 years old</td>\n",
       "      <td>Man</td>\n",
       "      <td>No</td>\n",
       "      <td>Straight / Heterosexual</td>\n",
       "      <td>White or of European descent</td>\n",
       "      <td>None of the above</td>\n",
       "      <td>I have an anxiety disorder</td>\n",
       "      <td>Appropriate in length</td>\n",
       "      <td>Easy</td>\n",
       "      <td>NaN</td>\n",
       "    </tr>\n",
       "    <tr>\n",
       "      <th>1238</th>\n",
       "      <td>296</td>\n",
       "      <td>I am not primarily a developer, but I write co...</td>\n",
       "      <td>Independent contractor, freelancer, or self-em...</td>\n",
       "      <td>DKI Jakarta</td>\n",
       "      <td>North Carolina</td>\n",
       "      <td>NaN</td>\n",
       "      <td>Master’s degree (M.A., M.S., M.Eng., MBA, etc.)</td>\n",
       "      <td>25 - 34 years</td>\n",
       "      <td>Other (please specify):</td>\n",
       "      <td>20</td>\n",
       "      <td>...</td>\n",
       "      <td>Prefer not to say</td>\n",
       "      <td>Man</td>\n",
       "      <td>No</td>\n",
       "      <td>Straight / Heterosexual</td>\n",
       "      <td>White or of European descent</td>\n",
       "      <td>Prefer not to say</td>\n",
       "      <td>Prefer not to say</td>\n",
       "      <td>Appropriate in length</td>\n",
       "      <td>Neither easy nor difficult</td>\n",
       "      <td>NaN</td>\n",
       "    </tr>\n",
       "  </tbody>\n",
       "</table>\n",
       "<p>1239 rows × 48 columns</p>\n",
       "</div>"
      ],
      "text/plain": [
       "      ResponseId                                         MainBranch  \\\n",
       "0           1235                     I am a developer by profession   \n",
       "1           1175  I am not primarily a developer, but I write co...   \n",
       "2           1147                     I am a developer by profession   \n",
       "3           1146                     I am a developer by profession   \n",
       "4            257  I am not primarily a developer, but I write co...   \n",
       "...          ...                                                ...   \n",
       "1234          57                     I am a developer by profession   \n",
       "1235        1059                     I am a developer by profession   \n",
       "1236         398                     I am a developer by profession   \n",
       "1237         832                     I am a developer by profession   \n",
       "1238         296  I am not primarily a developer, but I write co...   \n",
       "\n",
       "                                             Employment     Province  \\\n",
       "0     Independent contractor, freelancer, or self-em...        Dumai   \n",
       "1                                    Employed part-time    Surakarta   \n",
       "2                                    Employed part-time   Yogyakarta   \n",
       "3                                    Employed full-time   Balikpapan   \n",
       "4                                    Employed full-time    Pontianak   \n",
       "...                                                 ...          ...   \n",
       "1234                                 Employed full-time      Ireland   \n",
       "1235                                 Employed full-time     Pasuruan   \n",
       "1236  Independent contractor, freelancer, or self-em...     Surabaya   \n",
       "1237                                 Employed full-time     Surabaya   \n",
       "1238  Independent contractor, freelancer, or self-em...  DKI Jakarta   \n",
       "\n",
       "            US_State UK_Country  \\\n",
       "0                NaN        NaN   \n",
       "1                NaN        NaN   \n",
       "2                NaN        NaN   \n",
       "3                NaN        NaN   \n",
       "4                NaN        NaN   \n",
       "...              ...        ...   \n",
       "1234             NaN        NaN   \n",
       "1235             NaN        NaN   \n",
       "1236             NaN    England   \n",
       "1237             NaN   Scotland   \n",
       "1238  North Carolina        NaN   \n",
       "\n",
       "                                                EdLevel     Age1stCode  \\\n",
       "0          Bachelor’s degree (B.A., B.S., B.Eng., etc.)  11 - 17 years   \n",
       "1     Secondary school (e.g. American high school, G...  11 - 17 years   \n",
       "2     Some college/university study without earning ...  11 - 17 years   \n",
       "3          Bachelor’s degree (B.A., B.S., B.Eng., etc.)  18 - 24 years   \n",
       "4     Some college/university study without earning ...  11 - 17 years   \n",
       "...                                                 ...            ...   \n",
       "1234    Master’s degree (M.A., M.S., M.Eng., MBA, etc.)  18 - 24 years   \n",
       "1235    Master’s degree (M.A., M.S., M.Eng., MBA, etc.)  18 - 24 years   \n",
       "1236  Some college/university study without earning ...  18 - 24 years   \n",
       "1237       Bachelor’s degree (B.A., B.S., B.Eng., etc.)  18 - 24 years   \n",
       "1238    Master’s degree (M.A., M.S., M.Eng., MBA, etc.)  25 - 34 years   \n",
       "\n",
       "                                              LearnCode YearsCode  ...  \\\n",
       "0                                                School         7  ...   \n",
       "1     Other online resources (ex: videos, blogs, etc...        12  ...   \n",
       "2     Other online resources (ex: videos, blogs, etc...         6  ...   \n",
       "3                                       Coding Bootcamp         2  ...   \n",
       "4     Other online resources (ex: videos, blogs, etc...         9  ...   \n",
       "...                                                 ...       ...  ...   \n",
       "1234  Other online resources (ex: videos, blogs, etc...         6  ...   \n",
       "1235   School;Online Courses or Certification;Colleague         6  ...   \n",
       "1236                            Other (please specify):        43  ...   \n",
       "1237  Other online resources (ex: videos, blogs, etc...        12  ...   \n",
       "1238                            Other (please specify):        20  ...   \n",
       "\n",
       "                    Age Gender Trans                Sexuality  \\\n",
       "0       25-34 years old    Man    No  Straight / Heterosexual   \n",
       "1       18-24 years old    Man    No  Straight / Heterosexual   \n",
       "2       18-24 years old    Man    No                 Bisexual   \n",
       "3       25-34 years old  Woman    No  Straight / Heterosexual   \n",
       "4       25-34 years old    Man    No  Straight / Heterosexual   \n",
       "...                 ...    ...   ...                      ...   \n",
       "1234    25-34 years old    Man    No  Straight / Heterosexual   \n",
       "1235    25-34 years old    Man    No  Straight / Heterosexual   \n",
       "1236    55-64 years old    Man    No                      NaN   \n",
       "1237    35-44 years old    Man    No  Straight / Heterosexual   \n",
       "1238  Prefer not to say    Man    No  Straight / Heterosexual   \n",
       "\n",
       "                                        Ethnicity      Accessibility  \\\n",
       "0     White or of European descent;Middle Eastern  None of the above   \n",
       "1                    White or of European descent  None of the above   \n",
       "2                    White or of European descent  None of the above   \n",
       "3                    White or of European descent  None of the above   \n",
       "4                    White or of European descent  None of the above   \n",
       "...                                           ...                ...   \n",
       "1234                 White or of European descent  None of the above   \n",
       "1235                  Black or of African descent  None of the above   \n",
       "1236                       Hispanic or Latino/a/x                NaN   \n",
       "1237                 White or of European descent  None of the above   \n",
       "1238                 White or of European descent  Prefer not to say   \n",
       "\n",
       "                                           MentalHealth  \\\n",
       "0                                     None of the above   \n",
       "1     I have a concentration and/or memory disorder ...   \n",
       "2                                     None of the above   \n",
       "3                                     Prefer not to say   \n",
       "4                                     None of the above   \n",
       "...                                                 ...   \n",
       "1234                                  None of the above   \n",
       "1235                                  None of the above   \n",
       "1236                                                NaN   \n",
       "1237                         I have an anxiety disorder   \n",
       "1238                                  Prefer not to say   \n",
       "\n",
       "               SurveyLength                  SurveyEase ConvertedCompYearly  \n",
       "0     Appropriate in length                        Easy              1200.0  \n",
       "1     Appropriate in length                        Easy              1104.0  \n",
       "2     Appropriate in length                        Easy              5832.0  \n",
       "3     Appropriate in length                        Easy              8436.0  \n",
       "4     Appropriate in length                        Easy              9084.0  \n",
       "...                     ...                         ...                 ...  \n",
       "1234  Appropriate in length                        Easy                 NaN  \n",
       "1235  Appropriate in length  Neither easy nor difficult                 NaN  \n",
       "1236  Appropriate in length                        Easy                 NaN  \n",
       "1237  Appropriate in length                        Easy                 NaN  \n",
       "1238  Appropriate in length  Neither easy nor difficult                 NaN  \n",
       "\n",
       "[1239 rows x 48 columns]"
      ]
     },
     "execution_count": 82,
     "metadata": {},
     "output_type": "execute_result"
    }
   ],
   "source": [
    "df"
   ]
  },
  {
   "cell_type": "code",
   "execution_count": 83,
   "id": "9804d162",
   "metadata": {},
   "outputs": [
    {
     "data": {
      "text/html": [
       "<div>\n",
       "<style scoped>\n",
       "    .dataframe tbody tr th:only-of-type {\n",
       "        vertical-align: middle;\n",
       "    }\n",
       "\n",
       "    .dataframe tbody tr th {\n",
       "        vertical-align: top;\n",
       "    }\n",
       "\n",
       "    .dataframe thead th {\n",
       "        text-align: right;\n",
       "    }\n",
       "</style>\n",
       "<table border=\"1\" class=\"dataframe\">\n",
       "  <thead>\n",
       "    <tr style=\"text-align: right;\">\n",
       "      <th></th>\n",
       "      <th>Province</th>\n",
       "      <th>EdLevel</th>\n",
       "      <th>YearsCodePro</th>\n",
       "      <th>Employment</th>\n",
       "      <th>Salary</th>\n",
       "    </tr>\n",
       "  </thead>\n",
       "  <tbody>\n",
       "    <tr>\n",
       "      <th>0</th>\n",
       "      <td>Dumai</td>\n",
       "      <td>Bachelor’s degree (B.A., B.S., B.Eng., etc.)</td>\n",
       "      <td>5</td>\n",
       "      <td>Independent contractor, freelancer, or self-em...</td>\n",
       "      <td>1200.0</td>\n",
       "    </tr>\n",
       "    <tr>\n",
       "      <th>1</th>\n",
       "      <td>Surakarta</td>\n",
       "      <td>Secondary school (e.g. American high school, G...</td>\n",
       "      <td>3</td>\n",
       "      <td>Employed part-time</td>\n",
       "      <td>1104.0</td>\n",
       "    </tr>\n",
       "    <tr>\n",
       "      <th>2</th>\n",
       "      <td>Yogyakarta</td>\n",
       "      <td>Some college/university study without earning ...</td>\n",
       "      <td>1</td>\n",
       "      <td>Employed part-time</td>\n",
       "      <td>5832.0</td>\n",
       "    </tr>\n",
       "    <tr>\n",
       "      <th>3</th>\n",
       "      <td>Balikpapan</td>\n",
       "      <td>Bachelor’s degree (B.A., B.S., B.Eng., etc.)</td>\n",
       "      <td>Less than 1 year</td>\n",
       "      <td>Employed full-time</td>\n",
       "      <td>8436.0</td>\n",
       "    </tr>\n",
       "    <tr>\n",
       "      <th>4</th>\n",
       "      <td>Pontianak</td>\n",
       "      <td>Some college/university study without earning ...</td>\n",
       "      <td>3</td>\n",
       "      <td>Employed full-time</td>\n",
       "      <td>9084.0</td>\n",
       "    </tr>\n",
       "  </tbody>\n",
       "</table>\n",
       "</div>"
      ],
      "text/plain": [
       "     Province                                            EdLevel  \\\n",
       "0       Dumai       Bachelor’s degree (B.A., B.S., B.Eng., etc.)   \n",
       "1   Surakarta  Secondary school (e.g. American high school, G...   \n",
       "2  Yogyakarta  Some college/university study without earning ...   \n",
       "3  Balikpapan       Bachelor’s degree (B.A., B.S., B.Eng., etc.)   \n",
       "4   Pontianak  Some college/university study without earning ...   \n",
       "\n",
       "       YearsCodePro                                         Employment  Salary  \n",
       "0                 5  Independent contractor, freelancer, or self-em...  1200.0  \n",
       "1                 3                                 Employed part-time  1104.0  \n",
       "2                 1                                 Employed part-time  5832.0  \n",
       "3  Less than 1 year                                 Employed full-time  8436.0  \n",
       "4                 3                                 Employed full-time  9084.0  "
      ]
     },
     "execution_count": 83,
     "metadata": {},
     "output_type": "execute_result"
    }
   ],
   "source": [
    "df = df[[\"Province\",\"EdLevel\",\"YearsCodePro\",\"Employment\",\"ConvertedCompYearly\"]]\n",
    "df = df.rename({\"ConvertedCompYearly\": \"Salary\"}, axis = 1)\n",
    "df.head()"
   ]
  },
  {
   "cell_type": "code",
   "execution_count": 84,
   "id": "18bc6458",
   "metadata": {},
   "outputs": [
    {
     "data": {
      "text/html": [
       "<div>\n",
       "<style scoped>\n",
       "    .dataframe tbody tr th:only-of-type {\n",
       "        vertical-align: middle;\n",
       "    }\n",
       "\n",
       "    .dataframe tbody tr th {\n",
       "        vertical-align: top;\n",
       "    }\n",
       "\n",
       "    .dataframe thead th {\n",
       "        text-align: right;\n",
       "    }\n",
       "</style>\n",
       "<table border=\"1\" class=\"dataframe\">\n",
       "  <thead>\n",
       "    <tr style=\"text-align: right;\">\n",
       "      <th></th>\n",
       "      <th>Province</th>\n",
       "      <th>EdLevel</th>\n",
       "      <th>YearsCodePro</th>\n",
       "      <th>Employment</th>\n",
       "      <th>Salary</th>\n",
       "    </tr>\n",
       "  </thead>\n",
       "  <tbody>\n",
       "    <tr>\n",
       "      <th>0</th>\n",
       "      <td>Dumai</td>\n",
       "      <td>Bachelor’s degree (B.A., B.S., B.Eng., etc.)</td>\n",
       "      <td>5</td>\n",
       "      <td>Independent contractor, freelancer, or self-em...</td>\n",
       "      <td>1200.0</td>\n",
       "    </tr>\n",
       "    <tr>\n",
       "      <th>1</th>\n",
       "      <td>Surakarta</td>\n",
       "      <td>Secondary school (e.g. American high school, G...</td>\n",
       "      <td>3</td>\n",
       "      <td>Employed part-time</td>\n",
       "      <td>1104.0</td>\n",
       "    </tr>\n",
       "    <tr>\n",
       "      <th>2</th>\n",
       "      <td>Yogyakarta</td>\n",
       "      <td>Some college/university study without earning ...</td>\n",
       "      <td>1</td>\n",
       "      <td>Employed part-time</td>\n",
       "      <td>5832.0</td>\n",
       "    </tr>\n",
       "    <tr>\n",
       "      <th>3</th>\n",
       "      <td>Balikpapan</td>\n",
       "      <td>Bachelor’s degree (B.A., B.S., B.Eng., etc.)</td>\n",
       "      <td>Less than 1 year</td>\n",
       "      <td>Employed full-time</td>\n",
       "      <td>8436.0</td>\n",
       "    </tr>\n",
       "    <tr>\n",
       "      <th>4</th>\n",
       "      <td>Pontianak</td>\n",
       "      <td>Some college/university study without earning ...</td>\n",
       "      <td>3</td>\n",
       "      <td>Employed full-time</td>\n",
       "      <td>9084.0</td>\n",
       "    </tr>\n",
       "  </tbody>\n",
       "</table>\n",
       "</div>"
      ],
      "text/plain": [
       "     Province                                            EdLevel  \\\n",
       "0       Dumai       Bachelor’s degree (B.A., B.S., B.Eng., etc.)   \n",
       "1   Surakarta  Secondary school (e.g. American high school, G...   \n",
       "2  Yogyakarta  Some college/university study without earning ...   \n",
       "3  Balikpapan       Bachelor’s degree (B.A., B.S., B.Eng., etc.)   \n",
       "4   Pontianak  Some college/university study without earning ...   \n",
       "\n",
       "       YearsCodePro                                         Employment  Salary  \n",
       "0                 5  Independent contractor, freelancer, or self-em...  1200.0  \n",
       "1                 3                                 Employed part-time  1104.0  \n",
       "2                 1                                 Employed part-time  5832.0  \n",
       "3  Less than 1 year                                 Employed full-time  8436.0  \n",
       "4                 3                                 Employed full-time  9084.0  "
      ]
     },
     "execution_count": 84,
     "metadata": {},
     "output_type": "execute_result"
    }
   ],
   "source": [
    "df = df[df[\"Salary\"].notnull()]\n",
    "df.head()"
   ]
  },
  {
   "cell_type": "code",
   "execution_count": 85,
   "id": "85e37dfe",
   "metadata": {},
   "outputs": [
    {
     "name": "stdout",
     "output_type": "stream",
     "text": [
      "<class 'pandas.core.frame.DataFrame'>\n",
      "Int64Index: 735 entries, 0 to 1227\n",
      "Data columns (total 5 columns):\n",
      " #   Column        Non-Null Count  Dtype  \n",
      "---  ------        --------------  -----  \n",
      " 0   Province      735 non-null    object \n",
      " 1   EdLevel       734 non-null    object \n",
      " 2   YearsCodePro  713 non-null    object \n",
      " 3   Employment    735 non-null    object \n",
      " 4   Salary        735 non-null    float64\n",
      "dtypes: float64(1), object(4)\n",
      "memory usage: 34.5+ KB\n"
     ]
    }
   ],
   "source": [
    "df.info()"
   ]
  },
  {
   "cell_type": "code",
   "execution_count": 86,
   "id": "f8a99a1f",
   "metadata": {},
   "outputs": [
    {
     "data": {
      "text/plain": [
       "Province        0\n",
       "EdLevel         0\n",
       "YearsCodePro    0\n",
       "Employment      0\n",
       "Salary          0\n",
       "dtype: int64"
      ]
     },
     "execution_count": 86,
     "metadata": {},
     "output_type": "execute_result"
    }
   ],
   "source": [
    "df = df.dropna()\n",
    "df.isnull().sum()"
   ]
  },
  {
   "cell_type": "code",
   "execution_count": 87,
   "id": "26b7b878",
   "metadata": {},
   "outputs": [
    {
     "name": "stdout",
     "output_type": "stream",
     "text": [
      "<class 'pandas.core.frame.DataFrame'>\n",
      "Int64Index: 620 entries, 3 to 1227\n",
      "Data columns (total 4 columns):\n",
      " #   Column        Non-Null Count  Dtype  \n",
      "---  ------        --------------  -----  \n",
      " 0   Province      620 non-null    object \n",
      " 1   EdLevel       620 non-null    object \n",
      " 2   YearsCodePro  620 non-null    object \n",
      " 3   Salary        620 non-null    float64\n",
      "dtypes: float64(1), object(3)\n",
      "memory usage: 24.2+ KB\n"
     ]
    }
   ],
   "source": [
    "df = df[df[\"Employment\"] == \"Employed full-time\"]\n",
    "df = df.drop(\"Employment\", axis=1)\n",
    "df.info()"
   ]
  },
  {
   "cell_type": "code",
   "execution_count": 88,
   "id": "763f3f93",
   "metadata": {},
   "outputs": [
    {
     "data": {
      "text/plain": [
       "DKI Jakarta    131\n",
       "Yogyakarta      59\n",
       "Surabaya        48\n",
       "Sidoarjo        40\n",
       "Bekasi          35\n",
       "Denpasar        25\n",
       "Malang          23\n",
       "Tasikmalaya     22\n",
       "Kediri          21\n",
       "Tangerang       20\n",
       "Balikpapan      16\n",
       "Depok           15\n",
       "Makassar        14\n",
       "Pasuruan        12\n",
       "Kendari         12\n",
       "Ternate         10\n",
       "Sukabumi        10\n",
       "Madura           9\n",
       "Surakarta        8\n",
       "Padang           8\n",
       "Probolinggo      8\n",
       "Tegal            8\n",
       "Medan            7\n",
       "Kupang           7\n",
       "Pontianak        7\n",
       "Batam            7\n",
       "Batu             6\n",
       "Bandung          6\n",
       "Blitar           5\n",
       "Ireland          4\n",
       "Madiun           4\n",
       "Bontang          4\n",
       "Dumai            3\n",
       "Magelang         3\n",
       "Georgia          2\n",
       "Solo             1\n",
       "Name: Province, dtype: int64"
      ]
     },
     "execution_count": 88,
     "metadata": {},
     "output_type": "execute_result"
    }
   ],
   "source": [
    "df['Province'].value_counts()"
   ]
  },
  {
   "cell_type": "code",
   "execution_count": 89,
   "id": "3d034518",
   "metadata": {},
   "outputs": [],
   "source": [
    "def shorten_categories(categories, cutoff):\n",
    "    categorical_map = {}\n",
    "    for i in range(len(categories)):\n",
    "        if categories.values[i] >= cutoff:\n",
    "            categorical_map[categories.index[i]] = categories.index[i]\n",
    "        else:\n",
    "            categorical_map[categories.index[i]] = 'Other'\n",
    "    return categorical_map"
   ]
  },
  {
   "cell_type": "code",
   "execution_count": 90,
   "id": "211e2e92",
   "metadata": {},
   "outputs": [
    {
     "data": {
      "text/plain": [
       "DKI Jakarta    131\n",
       "Other          107\n",
       "Yogyakarta      59\n",
       "Surabaya        48\n",
       "Sidoarjo        40\n",
       "Bekasi          35\n",
       "Denpasar        25\n",
       "Malang          23\n",
       "Tasikmalaya     22\n",
       "Kediri          21\n",
       "Tangerang       20\n",
       "Balikpapan      16\n",
       "Depok           15\n",
       "Makassar        14\n",
       "Kendari         12\n",
       "Pasuruan        12\n",
       "Ternate         10\n",
       "Sukabumi        10\n",
       "Name: Province, dtype: int64"
      ]
     },
     "execution_count": 90,
     "metadata": {},
     "output_type": "execute_result"
    }
   ],
   "source": [
    "province_map = shorten_categories(df.Province.value_counts(), 10)\n",
    "df['Province'] = df['Province'].map(province_map)\n",
    "df.Province.value_counts()"
   ]
  },
  {
   "cell_type": "code",
   "execution_count": 91,
   "id": "33dc38d9",
   "metadata": {},
   "outputs": [
    {
     "data": {
      "image/png": "[encoded data removed]",
      "text/plain": [
       "<Figure size 864x504 with 1 Axes>"
      ]
     },
     "metadata": {
      "needs_background": "light"
     },
     "output_type": "display_data"
    }
   ],
   "source": [
    "fig, ax = plt.subplots(1,1, figsize=(12, 7))\n",
    "df.boxplot('Salary', 'Province', ax=ax)\n",
    "plt.suptitle('Salary (IDR) v Province')\n",
    "plt.title('')\n",
    "plt.ylabel('Salary')\n",
    "plt.xticks(rotation=90)\n",
    "plt.show()"
   ]
  },
  {
   "cell_type": "code",
   "execution_count": 92,
   "id": "15260204",
   "metadata": {},
   "outputs": [],
   "source": [
    "df = df[df[\"Salary\"] <= 250000]\n",
    "df = df[df[\"Salary\"] >= 10000]\n",
    "df = df[df['Province'] != 'Other']"
   ]
  },
  {
   "cell_type": "code",
   "execution_count": 93,
   "id": "87c1b0c2",
   "metadata": {},
   "outputs": [
    {
     "data": {
      "image/png": "[encoded data removed]",
      "text/plain": [
       "<Figure size 864x504 with 1 Axes>"
      ]
     },
     "metadata": {
      "needs_background": "light"
     },
     "output_type": "display_data"
    }
   ],
   "source": [
    "fig, ax = plt.subplots(1,1, figsize=(12, 7))\n",
    "df.boxplot('Salary', 'Province', ax=ax)\n",
    "plt.suptitle('Salary (IDR) v Province')\n",
    "plt.title('')\n",
    "plt.ylabel('Salary')\n",
    "plt.xticks(rotation=90)\n",
    "plt.show()"
   ]
  },
  {
   "cell_type": "code",
   "execution_count": 94,
   "id": "10328d72",
   "metadata": {},
   "outputs": [
    {
     "data": {
      "text/plain": [
       "array(['Less than 1 year', '10', '2', '12', '23', '20', '1', '18', '6',\n",
       "       '3', '4', '5', '9', '8', '7', '15', '30', '38', '14', '24', '11',\n",
       "       '19', '16', '26', '35', '25', '21', '13', '17', '22', '27', '39',\n",
       "       '29', '43', '33', '34', '40', '37', '31'], dtype=object)"
      ]
     },
     "execution_count": 94,
     "metadata": {},
     "output_type": "execute_result"
    }
   ],
   "source": [
    "df[\"YearsCodePro\"].unique()"
   ]
  },
  {
   "cell_type": "code",
   "execution_count": 95,
   "id": "11f8d9e2",
   "metadata": {},
   "outputs": [],
   "source": [
    "def clean_experience(x):\n",
    "    if x ==  'More than 50 years':\n",
    "        return 50\n",
    "    if x == 'Less than 1 year':\n",
    "        return 0.5\n",
    "    return float(x)\n",
    "\n",
    "df['YearsCodePro'] = df['YearsCodePro'].apply(clean_experience)"
   ]
  },
  {
   "cell_type": "code",
   "execution_count": 96,
   "id": "4fc74845",
   "metadata": {},
   "outputs": [
    {
     "data": {
      "text/plain": [
       "array(['Bachelor’s degree (B.A., B.S., B.Eng., etc.)',\n",
       "       'Master’s degree (M.A., M.S., M.Eng., MBA, etc.)',\n",
       "       'Some college/university study without earning a degree',\n",
       "       'Primary/elementary school',\n",
       "       'Other doctoral degree (Ph.D., Ed.D., etc.)',\n",
       "       'Secondary school (e.g. American high school, German Realschule or Gymnasium, etc.)',\n",
       "       'Associate degree (A.A., A.S., etc.)',\n",
       "       'Professional degree (JD, MD, etc.)', 'Something else'],\n",
       "      dtype=object)"
      ]
     },
     "execution_count": 96,
     "metadata": {},
     "output_type": "execute_result"
    }
   ],
   "source": [
    "df[\"EdLevel\"].unique()"
   ]
  },
  {
   "cell_type": "code",
   "execution_count": 97,
   "id": "2e719f9a",
   "metadata": {},
   "outputs": [],
   "source": [
    "def clean_education(x):\n",
    "    if 'Bachelor’s degree' in x:\n",
    "        return 'Bachelor’s degree'\n",
    "    if 'Master’s degree' in x:\n",
    "        return 'Master’s degree'\n",
    "    if 'Professional degree' in x or 'Other doctoral' in x:\n",
    "        return 'Post grad'\n",
    "    return 'Less than a Bachelors'\n",
    "\n",
    "df['EdLevel'] = df['EdLevel'].apply(clean_education)"
   ]
  },
  {
   "cell_type": "code",
   "execution_count": 98,
   "id": "45898770",
   "metadata": {},
   "outputs": [
    {
     "data": {
      "text/plain": [
       "array(['Bachelor’s degree', 'Master’s degree', 'Less than a Bachelors',\n",
       "       'Post grad'], dtype=object)"
      ]
     },
     "execution_count": 98,
     "metadata": {},
     "output_type": "execute_result"
    }
   ],
   "source": [
    "df[\"EdLevel\"].unique()"
   ]
  },
  {
   "cell_type": "code",
   "execution_count": 99,
   "id": "4a60a70e",
   "metadata": {},
   "outputs": [
    {
     "data": {
      "text/plain": [
       "array([0, 2, 1, 3])"
      ]
     },
     "execution_count": 99,
     "metadata": {},
     "output_type": "execute_result"
    }
   ],
   "source": [
    "from sklearn.preprocessing import LabelEncoder\n",
    "le_education = LabelEncoder()\n",
    "df['EdLevel'] = le_education.fit_transform(df['EdLevel'])\n",
    "df[\"EdLevel\"].unique()\n",
    "#le.classes_"
   ]
  },
  {
   "cell_type": "code",
   "execution_count": 100,
   "id": "a4f69d81",
   "metadata": {},
   "outputs": [
    {
     "data": {
      "text/plain": [
       "array([ 0,  5, 13, 11,  8, 10,  3,  6,  9, 12, 16, 15,  2,  7,  1,  4, 14])"
      ]
     },
     "execution_count": 100,
     "metadata": {},
     "output_type": "execute_result"
    }
   ],
   "source": [
    "le_country = LabelEncoder()\n",
    "df['Province'] = le_country.fit_transform(df['Province'])\n",
    "df[\"Province\"].unique()"
   ]
  },
  {
   "cell_type": "code",
   "execution_count": 101,
   "id": "f214a1c4",
   "metadata": {},
   "outputs": [],
   "source": [
    "X = df.drop(\"Salary\", axis=1)\n",
    "y = df[\"Salary\"]"
   ]
  },
  {
   "cell_type": "code",
   "execution_count": 102,
   "id": "57446df3",
   "metadata": {},
   "outputs": [
    {
     "data": {
      "text/plain": [
       "LinearRegression()"
      ]
     },
     "execution_count": 102,
     "metadata": {},
     "output_type": "execute_result"
    }
   ],
   "source": [
    "from sklearn.linear_model import LinearRegression\n",
    "linear_reg = LinearRegression()\n",
    "linear_reg.fit(X, y.values)"
   ]
  },
  {
   "cell_type": "code",
   "execution_count": 103,
   "id": "6592805d",
   "metadata": {},
   "outputs": [],
   "source": [
    "y_pred = linear_reg.predict(X)"
   ]
  },
  {
   "cell_type": "code",
   "execution_count": 104,
   "id": "302e3c8d",
   "metadata": {},
   "outputs": [],
   "source": [
    "from sklearn.metrics import mean_squared_error, mean_absolute_error\n",
    "import numpy as np\n",
    "error = np.sqrt(mean_squared_error(y, y_pred))"
   ]
  },
  {
   "cell_type": "code",
   "execution_count": 105,
   "id": "dccdb07d",
   "metadata": {},
   "outputs": [
    {
     "data": {
      "text/plain": [
       "41543.20927440486"
      ]
     },
     "execution_count": 105,
     "metadata": {},
     "output_type": "execute_result"
    }
   ],
   "source": [
    "error #for how many error in data"
   ]
  },
  {
   "cell_type": "code",
   "execution_count": 106,
   "id": "380d1413",
   "metadata": {},
   "outputs": [
    {
     "data": {
      "text/plain": [
       "DecisionTreeRegressor(random_state=0)"
      ]
     },
     "execution_count": 106,
     "metadata": {},
     "output_type": "execute_result"
    }
   ],
   "source": [
    "from sklearn.tree import DecisionTreeRegressor\n",
    "dec_tree_reg = DecisionTreeRegressor(random_state=0)\n",
    "dec_tree_reg.fit(X, y.values)"
   ]
  },
  {
   "cell_type": "code",
   "execution_count": 107,
   "id": "c9a4d7b0",
   "metadata": {},
   "outputs": [],
   "source": [
    "y_pred = dec_tree_reg.predict(X)"
   ]
  },
  {
   "cell_type": "code",
   "execution_count": 110,
   "id": "be630710",
   "metadata": {},
   "outputs": [
    {
     "name": "stdout",
     "output_type": "stream",
     "text": [
      "IDR 18,072.20\n"
     ]
    }
   ],
   "source": [
    "error = np.sqrt(mean_squared_error(y, y_pred))\n",
    "print(\"IDR {:,.02f}\".format(error))"
   ]
  },
  {
   "cell_type": "code",
   "execution_count": 111,
   "id": "d9931a42",
   "metadata": {},
   "outputs": [
    {
     "data": {
      "text/plain": [
       "GridSearchCV(estimator=DecisionTreeRegressor(random_state=0),\n",
       "             param_grid={'max_depth': [None, 2, 4, 6, 8, 10, 12]},\n",
       "             scoring='neg_mean_squared_error')"
      ]
     },
     "execution_count": 111,
     "metadata": {},
     "output_type": "execute_result"
    }
   ],
   "source": [
    "from sklearn.model_selection import GridSearchCV\n",
    "\n",
    "max_depth = [None, 2,4,6,8,10,12]\n",
    "parameters = {\"max_depth\": max_depth}\n",
    "\n",
    "regressor = DecisionTreeRegressor(random_state=0)\n",
    "gs = GridSearchCV(regressor, parameters, scoring='neg_mean_squared_error')\n",
    "gs.fit(X, y.values)"
   ]
  },
  {
   "cell_type": "code",
   "execution_count": 112,
   "id": "2bda1428",
   "metadata": {},
   "outputs": [
    {
     "name": "stdout",
     "output_type": "stream",
     "text": [
      "IDR 30,940.29\n"
     ]
    }
   ],
   "source": [
    "regressor = gs.best_estimator_\n",
    "\n",
    "regressor.fit(X, y.values)\n",
    "y_pred = regressor.predict(X)\n",
    "error = np.sqrt(mean_squared_error(y, y_pred))\n",
    "print(\"IDR {:,.02f}\".format(error))"
   ]
  },
  {
   "cell_type": "code",
   "execution_count": 113,
   "id": "60a44a0f",
   "metadata": {},
   "outputs": [
    {
     "data": {
      "text/html": [
       "<div>\n",
       "<style scoped>\n",
       "    .dataframe tbody tr th:only-of-type {\n",
       "        vertical-align: middle;\n",
       "    }\n",
       "\n",
       "    .dataframe tbody tr th {\n",
       "        vertical-align: top;\n",
       "    }\n",
       "\n",
       "    .dataframe thead th {\n",
       "        text-align: right;\n",
       "    }\n",
       "</style>\n",
       "<table border=\"1\" class=\"dataframe\">\n",
       "  <thead>\n",
       "    <tr style=\"text-align: right;\">\n",
       "      <th></th>\n",
       "      <th>Province</th>\n",
       "      <th>EdLevel</th>\n",
       "      <th>YearsCodePro</th>\n",
       "    </tr>\n",
       "  </thead>\n",
       "  <tbody>\n",
       "    <tr>\n",
       "      <th>6</th>\n",
       "      <td>0</td>\n",
       "      <td>0</td>\n",
       "      <td>0.5</td>\n",
       "    </tr>\n",
       "    <tr>\n",
       "      <th>7</th>\n",
       "      <td>0</td>\n",
       "      <td>2</td>\n",
       "      <td>0.5</td>\n",
       "    </tr>\n",
       "    <tr>\n",
       "      <th>8</th>\n",
       "      <td>5</td>\n",
       "      <td>2</td>\n",
       "      <td>10.0</td>\n",
       "    </tr>\n",
       "    <tr>\n",
       "      <th>9</th>\n",
       "      <td>13</td>\n",
       "      <td>2</td>\n",
       "      <td>2.0</td>\n",
       "    </tr>\n",
       "    <tr>\n",
       "      <th>10</th>\n",
       "      <td>0</td>\n",
       "      <td>1</td>\n",
       "      <td>10.0</td>\n",
       "    </tr>\n",
       "    <tr>\n",
       "      <th>...</th>\n",
       "      <td>...</td>\n",
       "      <td>...</td>\n",
       "      <td>...</td>\n",
       "    </tr>\n",
       "    <tr>\n",
       "      <th>1215</th>\n",
       "      <td>1</td>\n",
       "      <td>2</td>\n",
       "      <td>11.0</td>\n",
       "    </tr>\n",
       "    <tr>\n",
       "      <th>1216</th>\n",
       "      <td>1</td>\n",
       "      <td>0</td>\n",
       "      <td>4.0</td>\n",
       "    </tr>\n",
       "    <tr>\n",
       "      <th>1218</th>\n",
       "      <td>1</td>\n",
       "      <td>2</td>\n",
       "      <td>3.0</td>\n",
       "    </tr>\n",
       "    <tr>\n",
       "      <th>1219</th>\n",
       "      <td>1</td>\n",
       "      <td>2</td>\n",
       "      <td>6.0</td>\n",
       "    </tr>\n",
       "    <tr>\n",
       "      <th>1220</th>\n",
       "      <td>4</td>\n",
       "      <td>3</td>\n",
       "      <td>5.0</td>\n",
       "    </tr>\n",
       "  </tbody>\n",
       "</table>\n",
       "<p>461 rows × 3 columns</p>\n",
       "</div>"
      ],
      "text/plain": [
       "      Province  EdLevel  YearsCodePro\n",
       "6            0        0           0.5\n",
       "7            0        2           0.5\n",
       "8            5        2          10.0\n",
       "9           13        2           2.0\n",
       "10           0        1          10.0\n",
       "...        ...      ...           ...\n",
       "1215         1        2          11.0\n",
       "1216         1        0           4.0\n",
       "1218         1        2           3.0\n",
       "1219         1        2           6.0\n",
       "1220         4        3           5.0\n",
       "\n",
       "[461 rows x 3 columns]"
      ]
     },
     "execution_count": 113,
     "metadata": {},
     "output_type": "execute_result"
    }
   ],
   "source": [
    "X"
   ]
  },
  {
   "cell_type": "code",
   "execution_count": 114,
   "id": "2a999f83",
   "metadata": {},
   "outputs": [
    {
     "data": {
      "text/plain": [
       "array([['Denpasar', 'Master’s degree', '15']], dtype='<U15')"
      ]
     },
     "execution_count": 114,
     "metadata": {},
     "output_type": "execute_result"
    }
   ],
   "source": [
    "# province, edlevel, yearscode\n",
    "X = np.array([[\"Denpasar\", 'Master’s degree', 15 ]])\n",
    "X"
   ]
  },
  {
   "cell_type": "code",
   "execution_count": 115,
   "id": "b8ec9067",
   "metadata": {},
   "outputs": [
    {
     "data": {
      "text/plain": [
       "array([[ 3.,  2., 15.]])"
      ]
     },
     "execution_count": 115,
     "metadata": {},
     "output_type": "execute_result"
    }
   ],
   "source": [
    "X[:, 0] = le_country.transform(X[:,0])\n",
    "X[:, 1] = le_education.transform(X[:,1])\n",
    "X = X.astype(float)\n",
    "X"
   ]
  },
  {
   "cell_type": "code",
   "execution_count": 117,
   "id": "173a2ab1",
   "metadata": {},
   "outputs": [
    {
     "name": "stderr",
     "output_type": "stream",
     "text": [
      "C:\\Users\\Erlangga RM\\anaconda3\\envs\\ml\\lib\\site-packages\\sklearn\\base.py:450: UserWarning: X does not have valid feature names, but DecisionTreeRegressor was fitted with feature names\n",
      "  warnings.warn(\n"
     ]
    },
    {
     "data": {
      "text/plain": [
       "array([80394.66666667])"
      ]
     },
     "execution_count": 117,
     "metadata": {},
     "output_type": "execute_result"
    }
   ],
   "source": [
    "y_pred = regressor.predict(X)\n",
    "y_pred"
   ]
  },
  {
   "cell_type": "code",
   "execution_count": 122,
   "id": "72887730",
   "metadata": {},
   "outputs": [],
   "source": [
    "import pickle\n",
    "data = {\"model\": regressor, \"le_Province\": le_country, \"le_education\": le_education}\n",
    "with open('saved_steps.pkl', 'wb') as file:\n",
    "    pickle.dump(data, file)"
   ]
  },
  {
   "cell_type": "code",
   "execution_count": 123,
   "id": "6c58febf",
   "metadata": {},
   "outputs": [],
   "source": [
    "with open('saved_steps.pkl', 'rb') as file:\n",
    "    data = pickle.load(file)\n",
    "\n",
    "regressor_loaded = data[\"model\"]\n",
    "le_country = data[\"le_Province\"]\n",
    "le_education = data[\"le_education\"]"
   ]
  },
  {
   "cell_type": "code",
   "execution_count": 124,
   "id": "adc6bdc8",
   "metadata": {},
   "outputs": [
    {
     "name": "stderr",
     "output_type": "stream",
     "text": [
      "C:\\Users\\Erlangga RM\\anaconda3\\envs\\ml\\lib\\site-packages\\sklearn\\base.py:450: UserWarning: X does not have valid feature names, but DecisionTreeRegressor was fitted with feature names\n",
      "  warnings.warn(\n"
     ]
    },
    {
     "data": {
      "text/plain": [
       "array([80394.66666667])"
      ]
     },
     "execution_count": 124,
     "metadata": {},
     "output_type": "execute_result"
    }
   ],
   "source": [
    "y_pred = regressor_loaded.predict(X)\n",
    "y_pred"
   ]
  },
  {
   "cell_type": "code",
   "execution_count": null,
   "id": "5c209c32",
   "metadata": {},
   "outputs": [],
   "source": []
  }
 ],
 "metadata": {
  "kernelspec": {
   "display_name": "ml",
   "language": "python",
   "name": "ml"
  },
  "language_info": {
   "codemirror_mode": {
    "name": "ipython",
    "version": 3
   },
   "file_extension": ".py",
   "mimetype": "text/x-python",
   "name": "python",
   "nbconvert_exporter": "python",
   "pygments_lexer": "ipython3",
   "version": "3.9.12"
  }
 },
 "nbformat": 4,
 "nbformat_minor": 5
}
